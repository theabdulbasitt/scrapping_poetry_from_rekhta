{
  "nbformat": 4,
  "nbformat_minor": 0,
  "metadata": {
    "colab": {
      "provenance": [],
      "gpuType": "T4",
      "authorship_tag": "ABX9TyNKhSP1jyBBVql05A7OKhQe",
      "include_colab_link": true
    },
    "kernelspec": {
      "name": "python3",
      "display_name": "Python 3"
    },
    "language_info": {
      "name": "python"
    },
    "accelerator": "GPU"
  },
  "cells": [
    {
      "cell_type": "markdown",
      "metadata": {
        "id": "view-in-github",
        "colab_type": "text"
      },
      "source": [
        "<a href=\"https://colab.research.google.com/github/theabdulbasitt/scrapping_poetry_from_rekhta/blob/main/scraping_rekhta.ipynb\" target=\"_parent\"><img src=\"https://colab.research.google.com/assets/colab-badge.svg\" alt=\"Open In Colab\"/></a>"
      ]
    },
    {
      "cell_type": "code",
      "execution_count": 2,
      "metadata": {
        "id": "zbszDKI3Hpqy",
        "colab": {
          "base_uri": "https://localhost:8080/"
        },
        "outputId": "e7155d0d-78b1-49c8-eae0-d104cfbd1d2d"
      },
      "outputs": [
        {
          "output_type": "stream",
          "name": "stdout",
          "text": [
            "Found 0 poems on the page.\n"
          ]
        }
      ],
      "source": [
        "import requests\n",
        "from bs4 import BeautifulSoup\n",
        "import time\n",
        "\n",
        "headers = {\n",
        "    \"User-Agent\": \"Mozilla/5.0 (Windows NT 10.0; Win64; x64) AppleWebKit/537.36 (KHTML, like Gecko) Chrome/115.0.0.0 Safari/537.36\",\n",
        "    \"Accept-Language\": \"en-US,en;q=0.9\",\n",
        "}\n",
        "\n",
        "BASE_URL = \"https://www.rekhta.org\"\n",
        "PAGE_URL = \"/shayari\"\n",
        "\n",
        "def fetch_page(url):\n",
        "    try:\n",
        "        response = requests.get(url, headers=headers)\n",
        "        response.raise_for_status()\n",
        "        return response.text\n",
        "    except Exception as e:\n",
        "        print(f\"Error fetching page: {e}\")\n",
        "        return None\n",
        "\n",
        "def parse_poems(html):\n",
        "    soup = BeautifulSoup(html, 'html.parser')\n",
        "    poems = []\n",
        "\n",
        "    # Find all poetry items in the list\n",
        "    poem_items = soup.find_all('div', class_='contentListItems')\n",
        "\n",
        "    for item in poem_items:\n",
        "        # Extract Roman Urdu text (class 'rt' contains Roman transcription)\n",
        "        roman_lines = item.find_all('span', class_='rt')\n",
        "\n",
        "        # Clean and join lines\n",
        "        poem_text = '\\n'.join([line.get_text(strip=True) for line in roman_lines])\n",
        "\n",
        "        if poem_text:\n",
        "            poems.append(poem_text)\n",
        "\n",
        "    return poems\n",
        "\n",
        "def main():\n",
        "    full_url = BASE_URL + PAGE_URL\n",
        "    html_content = fetch_page(full_url)\n",
        "\n",
        "    if html_content:\n",
        "        poems = parse_poems(html_content)\n",
        "        print(f\"Found {len(poems)} poems on the page.\")\n",
        "\n",
        "        for idx, poem in enumerate(poems, 1):\n",
        "            print(f\"\\n--- Poem {idx} ---\")\n",
        "            print(poem)\n",
        "            print(\"-\" * 50)\n",
        "    else:\n",
        "        print(\"Failed to retrieve content from the page.\")\n",
        "\n",
        "if __name__ == \"__main__\":\n",
        "    main()"
      ]
    }
  ]
}