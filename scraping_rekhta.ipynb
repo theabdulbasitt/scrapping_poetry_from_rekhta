{
  "nbformat": 4,
  "nbformat_minor": 0,
  "metadata": {
    "colab": {
      "provenance": [],
      "gpuType": "T4",
      "authorship_tag": "ABX9TyNLDqiux55LBCejNKXGn3ps",
      "include_colab_link": true
    },
    "kernelspec": {
      "name": "python3",
      "display_name": "Python 3"
    },
    "language_info": {
      "name": "python"
    },
    "accelerator": "GPU"
  },
  "cells": [
    {
      "cell_type": "markdown",
      "metadata": {
        "id": "view-in-github",
        "colab_type": "text"
      },
      "source": [
        "<a href=\"https://colab.research.google.com/github/theabdulbasitt/scrapping_poetry_from_rekhta/blob/main/scraping_rekhta.ipynb\" target=\"_parent\"><img src=\"https://colab.research.google.com/assets/colab-badge.svg\" alt=\"Open In Colab\"/></a>"
      ]
    },
    {
      "cell_type": "code",
      "execution_count": 1,
      "metadata": {
        "id": "zbszDKI3Hpqy",
        "colab": {
          "base_uri": "https://localhost:8080/"
        },
        "outputId": "ac4ce7c2-d62a-4b11-cff6-4a901eb80101"
      },
      "outputs": [
        {
          "output_type": "stream",
          "name": "stdout",
          "text": [
            "Found 0 poems on the page.\n"
          ]
        }
      ],
      "source": [
        "import requests\n",
        "from bs4 import BeautifulSoup\n",
        "import time\n",
        "\n",
        "# Define headers to mimic a regular browser request\n",
        "headers = {\n",
        "    \"User-Agent\": (\n",
        "        \"Mozilla/5.0 (Windows NT 10.0; Win64; x64) \"\n",
        "        \"AppleWebKit/537.36 (KHTML, like Gecko) \"\n",
        "        \"Chrome/115.0.0.0 Safari/537.36\"\n",
        "    )\n",
        "}\n",
        "\n",
        "# Base URL for Rekhta and a sample page URL that lists poetry\n",
        "BASE_URL = \"https://www.rekhta.org\"\n",
        "# Example: a page that lists shayari (poetry)\n",
        "PAGE_URL = \"/shayari\"  # Adjust this path as necessary\n",
        "\n",
        "def fetch_page(url):\n",
        "    \"\"\"\n",
        "    Fetch the HTML content of the given URL.\n",
        "    \"\"\"\n",
        "    try:\n",
        "        response = requests.get(url, headers=headers)\n",
        "        if response.status_code == 200:\n",
        "            return response.text\n",
        "        else:\n",
        "            print(\"Error: Received status code\", response.status_code)\n",
        "    except Exception as e:\n",
        "        print(\"Error fetching the page:\", e)\n",
        "    return None\n",
        "\n",
        "def parse_poems(html):\n",
        "    \"\"\"\n",
        "    Parse the HTML to extract poems.\n",
        "    Adjust the tag names and class selectors based on the website's inspect code.\n",
        "    \"\"\"\n",
        "    soup = BeautifulSoup(html, 'html.parser')\n",
        "    poems = []\n",
        "\n",
        "    # Example: assuming each poem is contained within a <div> with class \"poetry-text\"\n",
        "    # You should inspect the Rekhta website to find the exact tag and class/ID.\n",
        "    poem_divs = soup.find_all(\"div\", class_=\"poetry-text\")  # <-- UPDATE selector as needed\n",
        "\n",
        "    for div in poem_divs:\n",
        "        # Get the text of the poem; you might need additional cleaning if there are nested tags\n",
        "        poem_text = div.get_text(separator=\"\\n\", strip=True)\n",
        "        poems.append(poem_text)\n",
        "    return poems\n",
        "\n",
        "def main():\n",
        "    full_url = BASE_URL + PAGE_URL\n",
        "    html_content = fetch_page(full_url)\n",
        "    if html_content:\n",
        "        poems = parse_poems(html_content)\n",
        "        print(\"Found {} poems on the page.\".format(len(poems)))\n",
        "        # Save or process the poems as needed; here, we simply print them.\n",
        "        for idx, poem in enumerate(poems, 1):\n",
        "            print(f\"\\n--- Poem {idx} ---\")\n",
        "            print(poem)\n",
        "            print(\"-\" * 50)\n",
        "    else:\n",
        "        print(\"Failed to retrieve content from the page.\")\n",
        "\n",
        "if __name__ == \"__main__\":\n",
        "    main()\n"
      ]
    }
  ]
}